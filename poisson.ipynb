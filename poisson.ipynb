{
 "cells": [
  {
   "cell_type": "code",
   "execution_count": 1,
   "id": "c9a99f2c-acee-4601-a9ff-7d536016a913",
   "metadata": {
    "tags": []
   },
   "outputs": [],
   "source": [
    "import numpy as np"
   ]
  },
  {
   "cell_type": "code",
   "execution_count": 2,
   "id": "a18db08d-f1fe-4105-b010-5b0578cc8cb0",
   "metadata": {
    "tags": []
   },
   "outputs": [],
   "source": [
    "import ufl"
   ]
  },
  {
   "cell_type": "code",
   "execution_count": 3,
   "id": "c310d66d-64d9-426a-bf45-f138f1526305",
   "metadata": {
    "tags": []
   },
   "outputs": [
    {
     "name": "stderr",
     "output_type": "stream",
     "text": [
      "[cppreviewdu-dolfinxdemo-fe7nn62qbto:00348] shmem: mmap: an error occurred while determining whether or not /tmp/ompi.cppreviewdu-dolfinxdemo-fe7nn62qbto.33333/jf.0/3889496064/shared_mem_cuda_pool.cppreviewdu-dolfinxdemo-fe7nn62qbto could be created.\n",
      "[cppreviewdu-dolfinxdemo-fe7nn62qbto:00348] create_and_attach: unable to create shared memory BTL coordinating structure :: size 134217728 \n"
     ]
    }
   ],
   "source": [
    "from dolfinx import fem, io, mesh, plot"
   ]
  },
  {
   "cell_type": "code",
   "execution_count": 4,
   "id": "33cb4731-23b2-4594-8918-800f50f2f7a7",
   "metadata": {},
   "outputs": [],
   "source": [
    "from dolfinx.fem import petsc"
   ]
  },
  {
   "cell_type": "code",
   "execution_count": 5,
   "id": "49139bfd-0b6b-479a-ba49-be611fe43aba",
   "metadata": {
    "tags": []
   },
   "outputs": [],
   "source": [
    "from ufl import ds, dx, grad, inner"
   ]
  },
  {
   "cell_type": "code",
   "execution_count": 6,
   "id": "ba42438d-c8b2-48ec-8cf0-c733f8c5688f",
   "metadata": {
    "tags": []
   },
   "outputs": [],
   "source": [
    "from mpi4py import MPI"
   ]
  },
  {
   "cell_type": "code",
   "execution_count": 7,
   "id": "08578307-5143-406d-9b2e-7f5baad2a56d",
   "metadata": {
    "tags": []
   },
   "outputs": [],
   "source": [
    "from petsc4py.PETSc import ScalarType\n",
    "from dolfinx.fem.petsc import LinearProblem"
   ]
  },
  {
   "cell_type": "code",
   "execution_count": 8,
   "id": "caeb9ad8-386b-4748-b940-eb15fd1942d6",
   "metadata": {
    "tags": []
   },
   "outputs": [],
   "source": [
    "msh = mesh.create_rectangle(\n",
    "    comm=MPI.COMM_WORLD,\n",
    "    points=((0.0, 0.0), (2.0, 1.0)),\n",
    "    n=(32, 16),\n",
    "    cell_type=mesh.CellType.triangle,\n",
    ")"
   ]
  },
  {
   "cell_type": "code",
   "execution_count": 10,
   "id": "3767aa1e-66a0-4213-b405-72a9e459d306",
   "metadata": {
    "tags": []
   },
   "outputs": [],
   "source": [
    "V = fem.functionspace(msh, (\"Lagrange\", 1))"
   ]
  },
  {
   "cell_type": "code",
   "execution_count": 11,
   "id": "0fd6015b-a95a-4589-9db5-1bb674aa2271",
   "metadata": {
    "tags": []
   },
   "outputs": [],
   "source": [
    "facets = mesh.locate_entities_boundary(\n",
    "    msh,\n",
    "    dim=1,\n",
    "    marker=lambda x: np.logical_or(np.isclose(x[0], 0.0), np.isclose(x[0], 2.0)),\n",
    ")"
   ]
  },
  {
   "cell_type": "code",
   "execution_count": 12,
   "id": "7b8bea84-e255-4a1d-9a75-43a51c4636a4",
   "metadata": {
    "tags": []
   },
   "outputs": [],
   "source": [
    "dofs = fem.locate_dofs_topological(V=V, entity_dim=1, entities=facets)"
   ]
  },
  {
   "cell_type": "code",
   "execution_count": 13,
   "id": "9f77377c-1f44-49a3-b023-18cd8e265e2e",
   "metadata": {
    "tags": []
   },
   "outputs": [],
   "source": [
    "bc = fem.dirichletbc(value=ScalarType(0), dofs=dofs, V=V)"
   ]
  },
  {
   "cell_type": "code",
   "execution_count": 14,
   "id": "813f96fe-800c-49da-95aa-497e21e43014",
   "metadata": {
    "tags": []
   },
   "outputs": [],
   "source": [
    "u = ufl.TrialFunction(V)"
   ]
  },
  {
   "cell_type": "code",
   "execution_count": 15,
   "id": "76ab4bbf-123a-4c8d-8084-2b9ba06c4e08",
   "metadata": {
    "tags": []
   },
   "outputs": [],
   "source": [
    "v = ufl.TestFunction(V)"
   ]
  },
  {
   "cell_type": "code",
   "execution_count": 16,
   "id": "fb496d51-c1e4-4766-b619-797588166121",
   "metadata": {
    "tags": []
   },
   "outputs": [],
   "source": [
    "x = ufl.SpatialCoordinate(msh)"
   ]
  },
  {
   "cell_type": "code",
   "execution_count": 17,
   "id": "c428aac1-26b4-4a45-be1f-0761753caed4",
   "metadata": {
    "tags": []
   },
   "outputs": [],
   "source": [
    "f = 10 * ufl.exp(-((x[0] - 0.5) ** 2 + (x[1] - 0.5) ** 2) / 0.002)"
   ]
  },
  {
   "cell_type": "code",
   "execution_count": 18,
   "id": "00b42311-5638-4ff5-89bc-75cd0d1980c9",
   "metadata": {
    "tags": []
   },
   "outputs": [],
   "source": [
    "g = ufl.sin(5 * x[0])"
   ]
  },
  {
   "cell_type": "code",
   "execution_count": 19,
   "id": "c4a7b458-a6f1-437a-b257-e4d0d5fb8d22",
   "metadata": {
    "tags": []
   },
   "outputs": [],
   "source": [
    "a = inner(grad(u), grad(v)) * dx"
   ]
  },
  {
   "cell_type": "code",
   "execution_count": 20,
   "id": "184b73d0-c37b-4bf2-be4d-eb363840f401",
   "metadata": {
    "tags": []
   },
   "outputs": [],
   "source": [
    "L = inner(f, v) * dx + inner(g, v) * ds"
   ]
  },
  {
   "cell_type": "code",
   "execution_count": 21,
   "id": "edf00c2f-95d8-46f0-9a7c-8e8734735dd8",
   "metadata": {
    "tags": []
   },
   "outputs": [],
   "source": [
    "# precondicionadores lu, gmrs (depende de la forma de la matriz)\n",
    "problem = LinearProblem(\n",
    "    a, L, bcs=[bc], petsc_options={\"ksp_type\": \"preonly\", \"pc_type\": \"lu\"}\n",
    ")"
   ]
  },
  {
   "cell_type": "code",
   "execution_count": 22,
   "id": "49933aaa-baea-47a4-b2ae-cb30047e0a75",
   "metadata": {
    "tags": []
   },
   "outputs": [],
   "source": [
    "uh = problem.solve()"
   ]
  },
  {
   "cell_type": "code",
   "execution_count": 23,
   "id": "d2696e70-60a2-4eef-8dfb-795037f436c3",
   "metadata": {
    "tags": []
   },
   "outputs": [],
   "source": [
    "with io.VTKFile(msh.comm, \"out_poisson/poisson.pvd\", \"w\") as file:\n",
    "    file.write_mesh(msh)\n",
    "    file.write_function(uh)"
   ]
  },
  {
   "cell_type": "code",
   "execution_count": 24,
   "id": "20b74540-2418-4971-910e-e68e53d32486",
   "metadata": {
    "tags": []
   },
   "outputs": [
    {
     "name": "stdout",
     "output_type": "stream",
     "text": [
      "poisson.pvd\t    poisson000001.pvtu\t   poisson_p0_000001.vtu\n",
      "poisson000000.pvtu  poisson_p0_000000.vtu\n"
     ]
    }
   ],
   "source": [
    "!(ls out_poisson)"
   ]
  },
  {
   "cell_type": "code",
   "execution_count": 25,
   "id": "0f342a10-473f-417b-81b6-01210b725942",
   "metadata": {
    "tags": []
   },
   "outputs": [],
   "source": [
    "try:\n",
    "    import pyvista\n",
    "\n",
    "    cells, types, x = plot.vtk_mesh(V)\n",
    "    grid = pyvista.UnstructuredGrid(cells, types, x)\n",
    "    grid.point_data[\"u\"] = uh.x.array.real\n",
    "    grid.set_active_scalars(\"u\")\n",
    "    plotter = pyvista.Plotter()\n",
    "    plotter.add_mesh(grid, show_edges=True)\n",
    "    warped = grid.warp_by_scalar()\n",
    "    plotter.add_mesh(warped)\n",
    "    if pyvista.OFF_SCREEN:\n",
    "        pyvista.start_xvfb(wait=0.1)\n",
    "        plotter.screenshot(\"uh_poisson.png\")\n",
    "    else:\n",
    "        plotter.show()\n",
    "except ModuleNotFoundError:\n",
    "    print(\"pyvista is required\")"
   ]
  }
 ],
 "metadata": {
  "kernelspec": {
   "display_name": "Python 3 (ipykernel)",
   "language": "python",
   "name": "python3"
  },
  "language_info": {
   "codemirror_mode": {
    "name": "ipython",
    "version": 3
   },
   "file_extension": ".py",
   "mimetype": "text/x-python",
   "name": "python",
   "nbconvert_exporter": "python",
   "pygments_lexer": "ipython3",
   "version": "3.12.3"
  }
 },
 "nbformat": 4,
 "nbformat_minor": 5
}
